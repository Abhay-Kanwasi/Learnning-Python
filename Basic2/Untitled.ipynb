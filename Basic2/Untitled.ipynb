{
 "cells": [
  {
   "cell_type": "code",
   "execution_count": 22,
   "metadata": {},
   "outputs": [
    {
     "name": "stdout",
     "output_type": "stream",
     "text": [
      "The length of string 'Something' is 9\n"
     ]
    }
   ],
   "source": [
    "# Write a Python program to calculate the length of a string\n",
    "\n",
    "string = \"Something\"\n",
    "print(f\"The length of string '{string}' is {len(string)}\")"
   ]
  },
  {
   "cell_type": "code",
   "execution_count": 27,
   "id": "32f32f47",
   "metadata": {},
   "outputs": [
    {
     "name": "stdout",
     "output_type": "stream",
     "text": [
      "Expected output w3ce\n"
     ]
    }
   ],
   "source": [
    "\n",
    "# Write a Python program to get a string made of the first 2 and last 2 characters of a given string. If the string length is less than 2, return the empty string instead.\n",
    "\n",
    "string = 'w3resource'\n",
    "# Expected output : 'w3ce'\n",
    "\n",
    "first = string[0:2]\n",
    "last = string[8:10]\n",
    "output = first + last\n",
    "print(f\"Expected output {output}\")"
   ]
  },
  {
   "cell_type": "code",
   "execution_count": 48,
   "id": "f75635d9",
   "metadata": {},
   "outputs": [
    {
     "name": "stdout",
     "output_type": "stream",
     "text": [
      "xyf abo\n"
     ]
    }
   ],
   "source": [
    "# Write a Python program to get a single string from two given strings, separated by a space and swap the first two characters of each string.\n",
    "\n",
    "string1, string2 = 'abcsdfsdf', 'xyzsdfsdo'\n",
    "# Excepted output :  'abo xyf'\n",
    "\n",
    "string3 = string1[0:2] + string2[-1]\n",
    "string4 = string2[0:2] + string1[-1]\n",
    "output = string4 + \" \" + string3\n",
    "print(output)"
   ]
  },
  {
   "cell_type": "code",
   "execution_count": 51,
   "id": "dc73ec55",
   "metadata": {},
   "outputs": [
    {
     "name": "stdout",
     "output_type": "stream",
     "text": [
      "ok\n"
     ]
    }
   ],
   "source": [
    "# Write a Python program to add 'ing' at the end of a given string (length should be at least 3). \n",
    "# If the given string already ends with 'ing', add 'ly' instead. \n",
    "# If the string length of the given string is less than 3, leave it unchanged.\n",
    "\n",
    "string = input(\"Enter the string:\")\n",
    "if len(string) < 3:\n",
    "    new_string = string\n",
    "else:\n",
    "    if string.endswith(\"ing\"):\n",
    "        new_string = string + \"ly\"\n",
    "    else:\n",
    "        new_string = string + \"ing\"\n",
    "print(new_string)\n"
   ]
  },
  {
   "cell_type": "code",
   "execution_count": null,
   "id": "9c74175b",
   "metadata": {},
   "outputs": [],
   "source": []
  },
  {
   "cell_type": "code",
   "execution_count": null,
   "id": "b7618538",
   "metadata": {},
   "outputs": [],
   "source": []
  }
 ],
 "metadata": {
  "kernelspec": {
   "display_name": "Python 3",
   "language": "python",
   "name": "python3"
  },
  "language_info": {
   "codemirror_mode": {
    "name": "ipython",
    "version": 3
   },
   "file_extension": ".py",
   "mimetype": "text/x-python",
   "name": "python",
   "nbconvert_exporter": "python",
   "pygments_lexer": "ipython3",
   "version": "3.10.12"
  }
 },
 "nbformat": 4,
 "nbformat_minor": 5
}
